{
 "cells": [
  {
   "cell_type": "markdown",
   "metadata": {},
   "source": [
    "# IF240 - Apprentissage et deep learning\n",
    "\n",
    "## Assignment 1: Kmeans, Naive Bayes, SVM \n",
    "\n",
    "By Aurélie Bugeau\n"
   ]
  },
  {
   "cell_type": "markdown",
   "metadata": {},
   "source": [
    "### Objectives \n",
    "The objective is to apply classification algorithms for digit recognition"
   ]
  },
  {
   "cell_type": "code",
   "execution_count": 1,
   "metadata": {},
   "outputs": [
    {
     "name": "stdout",
     "output_type": "stream",
     "text": [
      "(1797, 64)\n"
     ]
    }
   ],
   "source": [
    "from sklearn.datasets import load_digits\n",
    "digits = load_digits()\n",
    "print(digits.data.shape)\n",
    "import matplotlib.pyplot as plt \n",
    "fig, ax = plt.subplots(8, 5, figsize=(8, 12))\n",
    "plt.subplots_adjust(wspace=0.4, hspace=0.4)\n",
    "i=0\n",
    "for axi in ax.flat:\n",
    "    axi.set(xticks=[], yticks=[])\n",
    "    axi.set_title(\"label=%d\"%digits.target[i] )\n",
    "    axi.imshow(digits.images[i], interpolation='nearest', cmap=plt.cm.binary)\n",
    "    i+=1"
   ]
  },
  {
   "cell_type": "markdown",
   "metadata": {},
   "source": [
    "### Question 1 - Kmeans\n",
    "Apply kmeans to cluster this dataset. Visualize the resulting centroids as images after reshaping them. \n",
    "Check to which cluster is assigned each data as in a classification problem. Analyse the results.\n",
    "\n",
    "Be careful: the index of the clusters you find do not mandatorily correspond to the digit value (initial label). One way to find which label corresponds to each cluster is to visualise the centroid images, or to compute the mode of each class in the groundtruth\n",
    "`\n",
    "import numpy as np\n",
    "from scipy.stats import mode\n",
    "labels = np.zeros_like(Y)\n",
    "for i in range(10):\n",
    "    indices = np.where(y_pred == i)[0]\n",
    "    labels[indices] = mode(digits.target[indices])[0]\n",
    "    `"
   ]
  },
  {
   "cell_type": "code",
   "execution_count": 9,
   "metadata": {},
   "outputs": [
    {
     "data": {
      "image/png": "[encoded data removed]",
      "text/plain": [
       "<Figure size 576x288 with 10 Axes>"
      ]
     },
     "metadata": {},
     "output_type": "display_data"
    }
   ],
   "source": [
    "from sklearn.cluster import KMeans\n",
    "import numpy as np\n",
    "from scipy.stats import mode\n",
    "from sklearn import metrics\n",
    "from seaborn import heatmap\n",
    "\n",
    "# Globals \n",
    "\n",
    "X=digits.data\n",
    "Y=digits.target\n",
    "n_clusters = 10\n",
    "image_shape = digits.images.shape[1:]\n",
    "\n",
    "# Apply KMeans\n",
    "\n",
    "clustering = KMeans(n_clusters, random_state = 0).fit(X)\n",
    "\n",
    "# Retrieve KMeans results : centroids and corresponding labels\n",
    "\n",
    "centroids = clustering.cluster_centers_\n",
    "labels = clustering.labels_\n",
    "\n",
    "images_centroids = np.zeros((n_clusters,image_shape[0],image_shape[1]))\n",
    "\n",
    "# Reshape dataset to get 8x8 images from shape 64 vectors\n",
    "\n",
    "for i in range(n_clusters):\n",
    "    images_centroids[i] = np.reshape(centroids[i], image_shape)\n",
    "    \n",
    "# Affect true labels to dataset according to the initial ones\n",
    "\n",
    "true_labels = np.zeros_like(Y)\n",
    "for i in range(10):\n",
    "    indices = np.where(labels == i)[0]\n",
    "    true_labels[indices] = mode(Y[indices])[0]\n",
    "\n",
    "# Plot the centroids returned by KMeans\n",
    "\n",
    "fig, ax = plt.subplots(2, 5, figsize=(8, 4))\n",
    "plt.subplots_adjust(wspace=0.4, hspace=0.4)\n",
    "i=0\n",
    "for axi in ax.flat:\n",
    "    axi.set(xticks=[], yticks=[])\n",
    "    axi.set_title(\"label=%d\"%i)\n",
    "    axi.imshow(images_centroids[i], interpolation='nearest', cmap=plt.cm.binary)\n",
    "    i+=1\n",
    "    \n",
    "\n",
    "    \n",
    " \n",
    "\n"
   ]
  },
  {
   "cell_type": "code",
   "execution_count": 11,
   "metadata": {},
   "outputs": [
    {
     "data": {
      "image/png": "[encoded data removed]",
      "text/plain": [
       "<Figure size 432x288 with 2 Axes>"
      ]
     },
     "metadata": {
      "needs_background": "light"
     },
     "output_type": "display_data"
    }
   ],
   "source": [
    "# Statistics on the result obtained (confusion matrix)\n",
    "\n",
    "#https://seaborn.pydata.org/generated/seaborn.heatmap.html\n",
    "\n",
    "confution_matrix = metrics.confusion_matrix(Y, true_labels, labels=range(n_clusters))\n",
    "ax = heatmap(confution_matrix, annot=True, cmap=\"gist_heat\", square=True, linecolor=\"white\")\n",
    "plt.show()"
   ]
  },
  {
   "cell_type": "markdown",
   "metadata": {},
   "source": [
    "### Question 2\n",
    "Apply Naive Bayes classification to the digit classification problem. Analyse your results.\n"
   ]
  },
  {
   "cell_type": "markdown",
   "metadata": {},
   "source": [
    "### Question 3\n",
    "Apply SVM classification to the digit classification problem. Analyse your results.\n"
   ]
  },
  {
   "cell_type": "code",
   "execution_count": null,
   "metadata": {},
   "outputs": [],
   "source": []
  }
 ],
 "metadata": {
  "kernelspec": {
   "display_name": "Python 3",
   "language": "python",
   "name": "python3"
  },
  "language_info": {
   "codemirror_mode": {
    "name": "ipython",
    "version": 3
   },
   "file_extension": ".py",
   "mimetype": "text/x-python",
   "name": "python",
   "nbconvert_exporter": "python",
   "pygments_lexer": "ipython3",
   "version": "3.7.4"
  },
  "latex_envs": {
   "LaTeX_envs_menu_present": true,
   "autoclose": false,
   "autocomplete": true,
   "bibliofile": "biblio.bib",
   "cite_by": "apalike",
   "current_citInitial": 1,
   "eqLabelWithNumbers": true,
   "eqNumInitial": 1,
   "hotkeys": {
    "equation": "Ctrl-E",
    "itemize": "Ctrl-I"
   },
   "labels_anchors": false,
   "latex_user_defs": false,
   "report_style_numbering": false,
   "user_envs_cfg": false
  }
 },
 "nbformat": 4,
 "nbformat_minor": 2
}
