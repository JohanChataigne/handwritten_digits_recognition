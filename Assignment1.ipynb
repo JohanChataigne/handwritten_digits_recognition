{
 "cells": [
  {
   "cell_type": "markdown",
   "metadata": {},
   "source": [
    "# IF240 - Apprentissage et deep learning\n",
    "\n",
    "## Assignment 1: Kmeans, Naive Bayes, SVM \n",
    "\n",
    "By Aurélie Bugeau\n"
   ]
  },
  {
   "cell_type": "markdown",
   "metadata": {},
   "source": [
    "### Objectives \n",
    "The objective is to apply classification algorithms for digit recognition"
   ]
  },
  {
   "cell_type": "code",
   "execution_count": 1,
   "metadata": {},
   "outputs": [
    {
     "name": "stdout",
     "output_type": "stream",
     "text": [
      "(1797, 64)\n"
     ]
    }
   ],
   "source": [
    "from sklearn.datasets import load_digits\n",
    "import matplotlib.pyplot as plt \n",
    "\n",
    "# Récupère les digits avec une méthode préexistante : images, les classes correspondantes\n",
    "digits = load_digits()\n",
    "\n",
    "# 1797 images de taille 8*8 pixels\n",
    "print(digits.data.shape)\n",
    "\n",
    "fig, ax = plt.subplots(8, 5, figsize=(8, 12))\n",
    "plt.subplots_adjust(wspace=0.4, hspace=0.4)\n",
    "i=0\n",
    "for axi in ax.flat:\n",
    "    axi.set(xticks=[], yticks=[])\n",
    "    axi.set_title(\"label=%d\"%digits.target[i] )\n",
    "    axi.imshow(digits.images[i], interpolation='nearest', cmap=plt.cm.binary)\n",
    "    i+=1"
   ]
  },
  {
   "cell_type": "markdown",
   "metadata": {},
   "source": [
    "### Question 1 - Kmeans\n",
    "Apply kmeans to cluster this dataset. Visualize the resulting centroids as images after reshaping them. \n",
    "Check to which cluster is assigned each data as in a classification problem. Analyse the results.\n",
    "\n",
    "Be careful: the index of the clusters you find do not mandatorily correspond to the digit value (initial label). One way to find which label corresponds to each cluster is to visualise the centroid images, or to compute the mode of each class in the groundtruth\n",
    "`\n",
    "import numpy as np\n",
    "from scipy.stats import mode\n",
    "labels = np.zeros_like(Y)\n",
    "for i in range(10):\n",
    "    indices = np.where(y_pred == i)[0]\n",
    "    labels[indices] = mode(digits.target[indices])[0]\n",
    "    `"
   ]
  },
  {
   "cell_type": "code",
   "execution_count": 2,
   "metadata": {},
   "outputs": [
    {
     "data": {
      "image/png": "[encoded data removed]",
      "text/plain": [
       "<Figure size 576x288 with 10 Axes>"
      ]
     },
     "metadata": {},
     "output_type": "display_data"
    }
   ],
   "source": [
    "from sklearn.cluster import KMeans\n",
    "from scipy.stats import mode\n",
    "from sklearn import metrics\n",
    "import numpy as np\n",
    "from seaborn import heatmap\n",
    "\n",
    "# Globals \n",
    "\n",
    "# Données (tableau de 1797 images de dimension 8*8)\n",
    "X=digits.data\n",
    "Y=digits.target\n",
    "\n",
    "# Nombre de classes que l'on souhaite avoir : 10 digits\n",
    "n_clusters = 10\n",
    "image_shape = digits.images.shape[1:]\n",
    "\n",
    "# Applique KMeans sur nos données\n",
    "clustering = KMeans(n_clusters, random_state = 0).fit(X)\n",
    "\n",
    "# Récupères les résultats : les centroids et les labels correspondants\n",
    "centroids = clustering.cluster_centers_\n",
    "labels = clustering.labels_\n",
    "\n",
    "# Créé un tableau avec pour chaque classes, les images correspondantes (tableau de taille 10,8,8)\n",
    "images_centroids = np.zeros((n_clusters,image_shape[0],image_shape[1]))\n",
    "\n",
    "# Redimenssioner les données afin d'obtenir des images 8*8\n",
    "for i in range(n_clusters):\n",
    "    images_centroids[i] = np.reshape(centroids[i], image_shape)\n",
    "\n",
    "# Attribute les vrais labels aux données par rapport aux données initiales\n",
    "true_labels = np.zeros_like(Y)\n",
    "for i in range(10):\n",
    "    indices = np.where(labels == i)[0]\n",
    "    true_labels[indices] = mode(Y[indices])[0]\n",
    "\n",
    "# Plot the centroids returned by KMeans\n",
    "\n",
    "fig, ax = plt.subplots(2, 5, figsize=(8, 4))\n",
    "plt.subplots_adjust(wspace=0.4, hspace=0.4)\n",
    "i=0\n",
    "for axi in ax.flat:\n",
    "    axi.set(xticks=[], yticks=[])\n",
    "    axi.set_title(\"label=%d\"%i)\n",
    "    axi.imshow(images_centroids[i], interpolation='nearest', cmap=plt.cm.binary)\n",
    "    i+=1"
   ]
  },
  {
   "cell_type": "markdown",
   "metadata": {},
   "source": [
    "Il est nécessaire d'attribuer les bons labels aux données. En effet, après avoir appliqué KMeans, chacuns de nos centroids a une image moyenne correspondante. **Cependant**, les labels que nous obtenons ne correspondent pas forcément au *vrai* digit, dépend de l'ordre de traitement et il s'agit d'une donnée arbitraire. Le plus important est de faire la moyenne de la classe de chaqu'une des données afin d'obtenir la classe correspondante."
   ]
  },
  {
   "cell_type": "code",
   "execution_count": 8,
   "metadata": {},
   "outputs": [
    {
     "data": {
      "image/png": "[encoded data removed]",
      "text/plain": [
       "<Figure size 432x288 with 2 Axes>"
      ]
     },
     "metadata": {
      "needs_background": "light"
     },
     "output_type": "display_data"
    },
    {
     "name": "stdout",
     "output_type": "stream",
     "text": [
      "1165177.713706214\n"
     ]
    }
   ],
   "source": [
    "# Nous obtenons les résultats dans la matrice de confusion\n",
    "confution_matrix = metrics.confusion_matrix(Y, true_labels, labels=range(n_clusters))\n",
    "ax = heatmap(confution_matrix, annot=True, cmap=\"seismic\", square=True, linecolor=\"black\", fmt='d', linewidths = 1)\n",
    "b, t = plt.ylim()\n",
    "b += 0.5\n",
    "t -= 0.5\n",
    "plt.ylim(b, t)\n",
    "plt.show()\n",
    "\n",
    "print(clustering.inertia_)"
   ]
  },
  {
   "cell_type": "markdown",
   "metadata": {},
   "source": [
    "Comme nous pouvons le voir, les résultats entre les données attendues et les données calculées sont plutôt bons. Exceptions faites concernants la classe 1 (chiffre 3) est beaucoup confondu avec les classes :\n",
    "* 8 : chiffre 2\n",
    "* 2 : chiffre 5\n",
    "Mais aussi la classe 5 (chiffre 0) avec la classe 9 (chiffre 6). Enfin la classe 8 (chiffre 2) avec la classe 9 (chiffre 6).\n",
    "\n",
    "On peut voir que les résultats de cette classe ne conviennent pas vraiment. En effet, on confond beaucoup plus de valeurs avec des classes différentes que l'on trouve de vrais positifs.\n",
    "\n",
    "\n",
    "On peut en conclure que cette méthode peut s'apparenter à une bonne méthode au départ : on connait déjà le nombre de classes initiale mais aussi car les clusters ont une taille modulable et on exploite bien cet avantage avec nos vecteurs de taille 8\\*8. Cependant, comme nous montre la matrice de confusion il y a quelques classes qui sont confondues.\n",
    "\n",
    "De plus, KMeans est un outil non supervisé ayant pour but de rassembler les données selon des centroids (points dans l'espace) proches des données en N clusters différents. Cependant, ici notre problème est que nous avons déjà les vrais labels pour les images et donc il vaudrait mieux utiliser un algorithme supervisé dans lequel nous exploitons les vrais labels."
   ]
  },
  {
   "cell_type": "markdown",
   "metadata": {},
   "source": [
    "### Question 2\n",
    "Apply Naive Bayes classification to the digit classification problem. Analyse your results.\n"
   ]
  },
  {
   "cell_type": "code",
   "execution_count": 14,
   "metadata": {},
   "outputs": [
    {
     "ename": "SyntaxError",
     "evalue": "invalid syntax (<ipython-input-14-c773817dba47>, line 13)",
     "output_type": "error",
     "traceback": [
      "\u001b[1;36m  File \u001b[1;32m\"<ipython-input-14-c773817dba47>\"\u001b[1;36m, line \u001b[1;32m13\u001b[0m\n\u001b[1;33m    print(\"Number of mislabeled points out of a total %d points : %d\". (X_test.shape[0], (y_test != y_pred).sum()))\u001b[0m\n\u001b[1;37m                                                                       ^\u001b[0m\n\u001b[1;31mSyntaxError\u001b[0m\u001b[1;31m:\u001b[0m invalid syntax\n"
     ]
    }
   ],
   "source": [
    "from sklearn.naive_bayes import MultinomialNB\n",
    "from sklearn.model_selection import train_test_split\n",
    "\n",
    "X_bayes=digits.data\n",
    "Y_bayes=digits.target\n",
    "\n",
    "X_train, X_test, y_train, y_test = train_test_split(X_bayes, Y_bayes, test_size=0.5, random_state=0)\n",
    "\n",
    "gnb = GaussianNB()\n",
    "\n",
    "y_pred = gnb.fit(X_train, y_train).predict(X_test)\n",
    "\n",
    "#print(\"Number of mislabeled points out of a total %d points : %d\".(X_test.shape[0], (y_test != y_pred).sum()))"
   ]
  },
  {
   "cell_type": "markdown",
   "metadata": {},
   "source": [
    "### Question 3\n",
    "Apply SVM classification to the digit classification problem. Analyse your results.\n"
   ]
  },
  {
   "cell_type": "markdown",
   "metadata": {},
   "source": [
    "Le but de cette classification est de séparer les données selon des hypers plans afin d'avoir des groupes de données selon les 10 classes existantes. En effet, il s'agit ici d'un algorithme supervisé ce qui signifie que nous connaissons déjà les résultats concernant un ensemble de données et le but ici est d'apprendre ces dernières afin de les essayer sur un jeu de données test.\n",
    "\n",
    "Ici, on utilisera les 1757 premières données afin de s'entraîner (données qui à chaque exécution seront aléatoires compte tenu de la permutation des indices initiale) et on testera ensuite sur les 20 dernières données de notre dataset.\n",
    "\n",
    "Nous allons essayer de visualiser les différentes classification SVM afin de voir laquelle est potentiellement la meilleure : linéaire, not linaire"
   ]
  },
  {
   "cell_type": "code",
   "execution_count": 19,
   "metadata": {},
   "outputs": [
    {
     "name": "stdout",
     "output_type": "stream",
     "text": [
      "(1757, 64)\n",
      "(20, 64)\n",
      "(20, 64)\n"
     ]
    }
   ],
   "source": [
    "X_svm = digits.data\n",
    "Y_svm = digits.target\n",
    "\n",
    "# Permutation aléatoire des indices des coordonnées des points de moons\n",
    "indices = np.random.permutation(len(X_svm))\n",
    "\n",
    "# on garde des données aléatoires pour s'entrainer\n",
    "X_train = X_svm[indices[:-40]]\n",
    "Y_train = Y_svm[indices[:-40]]\n",
    "\n",
    "# on en garde pour valider\n",
    "X_valid = X_svm[indices[-40:-20]]\n",
    "Y_valid = Y_svm[indices[-40:-20]]\n",
    "\n",
    "# et les dernières pour tester\n",
    "X_test  = X_svm[indices[-20:]]\n",
    "Y_test  = Y_svm[indices[-20:]]\n",
    "\n",
    "print(X_train.shape)\n",
    "print(X_valid.shape)\n",
    "print(X_test.shape)"
   ]
  },
  {
   "cell_type": "code",
   "execution_count": 25,
   "metadata": {},
   "outputs": [
    {
     "name": "stdout",
     "output_type": "stream",
     "text": [
      "(1757, 64)\n"
     ]
    },
    {
     "data": {
      "image/png": "[encoded data removed]",
      "text/plain": [
       "<Figure size 432x288 with 1 Axes>"
      ]
     },
     "metadata": {
      "needs_background": "light"
     },
     "output_type": "display_data"
    },
    {
     "data": {
      "image/png": "[encoded data removed]",
      "text/plain": [
       "<Figure size 432x288 with 1 Axes>"
      ]
     },
     "metadata": {
      "needs_background": "light"
     },
     "output_type": "display_data"
    },
    {
     "name": "stdout",
     "output_type": "stream",
     "text": [
      "0.0970873786407767\n"
     ]
    }
   ],
   "source": [
    "from sklearn import svm\n",
    "svc = svm.SVC(kernel='linear', C=1.0)\n",
    "\n",
    "# on applique SVM linéaire\n",
    "svc.fit(X_train,Y_train)\n",
    "\n",
    "# on va verifier l'accuracy sur les données de validation : si la précision est trop basse on repare en phase\n",
    "# d'entrainement sur les données de train AFIN D'EVITER d'OVERFIT\n",
    "\n",
    "# on affiche le SVM linéaire pour les données d'entrainement : d'apres les données en entrées on essaye\n",
    "# de prédire si les\n",
    "\n",
    "print(X_train.shape)\n",
    "\n",
    "\n",
    "plt.scatter(X_train[:, 0], X_train[:, 1], c=svc.predict(X_train), s=50, cmap='viridis', label='points')\n",
    "plt.show()\n",
    "\n",
    "plt.scatter(X_test[:, 0], X_test[:, 1], c=svc.predict(X_test), s=50, cmap='viridis', label='points')\n",
    "plt.legend()\n",
    "plt.show()\n",
    "\n",
    "print(svc.score(X_test, Y_valid, svc.predict(X_test)))"
   ]
  },
  {
   "cell_type": "code",
   "execution_count": null,
   "metadata": {},
   "outputs": [],
   "source": []
  }
 ],
 "metadata": {
  "kernelspec": {
   "display_name": "Python 3",
   "language": "python",
   "name": "python3"
  },
  "language_info": {
   "codemirror_mode": {
    "name": "ipython",
    "version": 3
   },
   "file_extension": ".py",
   "mimetype": "text/x-python",
   "name": "python",
   "nbconvert_exporter": "python",
   "pygments_lexer": "ipython3",
   "version": "3.7.4"
  },
  "latex_envs": {
   "LaTeX_envs_menu_present": true,
   "autoclose": false,
   "autocomplete": true,
   "bibliofile": "biblio.bib",
   "cite_by": "apalike",
   "current_citInitial": 1,
   "eqLabelWithNumbers": true,
   "eqNumInitial": 1,
   "hotkeys": {
    "equation": "Ctrl-E",
    "itemize": "Ctrl-I"
   },
   "labels_anchors": false,
   "latex_user_defs": false,
   "report_style_numbering": false,
   "user_envs_cfg": false
  }
 },
 "nbformat": 4,
 "nbformat_minor": 2
}
