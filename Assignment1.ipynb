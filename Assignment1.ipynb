{
 "cells": [
  {
   "cell_type": "markdown",
   "metadata": {},
   "source": [
    "# IF240 - Apprentissage et deep learning\n",
    "\n",
    "## Assignment 1: Kmeans, Naive Bayes, SVM \n",
    "\n",
    "By Aurélie Bugeau\n"
   ]
  },
  {
   "cell_type": "markdown",
   "metadata": {},
   "source": [
    "<font color=\"blue\"/>\n",
    "\n",
    "### Objectifs\n",
    "L'objectif est d'appliquer des algorithmes de classifications pour la reconnaissance de chiffres."
   ]
  },
  {
   "cell_type": "code",
   "execution_count": 1,
   "metadata": {},
   "outputs": [],
   "source": [
    "from sklearn.datasets import load_digits\n",
    "import matplotlib.pyplot as plt \n",
    "\n",
    "# Récupère les digits avec une méthode préexistante : images, les classes correspondantes\n",
    "# 1797 images de taille 8*8 pixels\n",
    "digits = load_digits()"
   ]
  },
  {
   "cell_type": "markdown",
   "metadata": {},
   "source": [
    "<font color=\"blue\"/>\n",
    "\n",
    "### Question 1 : Kmeans\n",
    "\n",
    "La méthode de Machine learning de cette partie concerne la méthode **non supervisée** de classification des K-moyennes (nommée *KMeans*). Comme tout algorithme non supervisé, le but est d'apprendre depuis les données et d'en ressortir des informations, en l'occurrence séparer les données, des vecteurs 8\\*8, en k classes distinctes, 10 en l'occurrence.\n",
    "\n",
    "L'algorithme est plutôt simple : nous prenons k centroids aléatoires au depart, pour chaque point nous l'attribuons au centroid le plus proche. Ensuite, une fois que tous les points ont été assignés, nous prenons la moyenne de la positions de ces points afin de recréer un nouveau centroids pour chaque classe et répéter jusqu'à la convergence des positions des centroids.\n",
    "\n",
    "Ici le but est d'appliquer cet algorithme sur des images à savoir un vecteur 8\\*8, donc 64 pixels. Le but est donc d'aplatir toutes les données, effectuer l'algorithme et quand il y a convergence, alors nous allons redimensionner le vecteur afin de le remettre en tant qu'image. Nous avons donc les images moyennes pour chacune des classes."
   ]
  },
  {
   "cell_type": "code",
   "execution_count": 2,
   "metadata": {},
   "outputs": [
    {
     "data": {
      "image/png": "[encoded data removed]",
      "text/plain": [
       "<Figure size 576x288 with 10 Axes>"
      ]
     },
     "metadata": {},
     "output_type": "display_data"
    }
   ],
   "source": [
    "from sklearn.cluster import KMeans\n",
    "from scipy.stats import mode\n",
    "from sklearn import metrics\n",
    "import numpy as np\n",
    "from seaborn import heatmap\n",
    "\n",
    "# Données (tableau de 1797 images de dimension 8*8)\n",
    "X_kmeans=digits.data\n",
    "Y_kmeans=digits.target\n",
    "\n",
    "# Nombre de classes que l'on souhaite avoir : 10 digits\n",
    "n_clusters = 10\n",
    "\n",
    "# Dimensions d'une image : 8,8\n",
    "image_shape = digits.images.shape[1:]\n",
    "\n",
    "# Applique KMeans sur nos données\n",
    "clustering = KMeans(n_clusters, random_state = 0).fit(X_kmeans)\n",
    "\n",
    "# Récupères les résultats : les centroids et les labels correspondants\n",
    "centroids = clustering.cluster_centers_\n",
    "centroids_labels = clustering.labels_\n",
    "\n",
    "# Créé un tableau avec pour chaque classes, les images correspondantes (tableau de taille 10,8,8)\n",
    "images_centroids = np.zeros((n_clusters,image_shape[0],image_shape[1]))\n",
    "\n",
    "# Redimensioner les données afin d'obtenir des images 8*8\n",
    "for i in range(n_clusters):\n",
    "    images_centroids[i] = np.reshape(centroids[i], image_shape)\n",
    "\n",
    "# Attribuer les vrais labels aux données par rapport aux données initiales\n",
    "labels = np.zeros_like(Y_kmeans)\n",
    "for i in range(n_clusters):\n",
    "    indices = np.where(centroids_labels == i)[0]\n",
    "    labels[indices] = mode(Y_kmeans[indices])[0]\n",
    "    images_centroids[mode(Y_kmeans[indices])[0]] = np.reshape(centroids[i], image_shape)\n",
    "\n",
    "# Afficher les images des centroids\n",
    "fig, ax = plt.subplots(2, 5, figsize=(8, 4))\n",
    "plt.subplots_adjust(wspace=0.4, hspace=0.4)\n",
    "i=0\n",
    "for axi in ax.flat:\n",
    "    axi.set(xticks=[], yticks=[])\n",
    "    axi.set_title(\"Centroid %d\"%i)\n",
    "    axi.imshow(images_centroids[i], interpolation='nearest', cmap=plt.cm.binary)\n",
    "    i+=1"
   ]
  },
  {
   "cell_type": "code",
   "execution_count": 3,
   "metadata": {
    "scrolled": true
   },
   "outputs": [
    {
     "data": {
      "image/png": "[encoded data removed]",
      "text/plain": [
       "<Figure size 432x288 with 2 Axes>"
      ]
     },
     "metadata": {
      "needs_background": "light"
     },
     "output_type": "display_data"
    }
   ],
   "source": [
    "# Nous obtenons les résultats dans la matrice de confusion\n",
    "confution_matrix = metrics.confusion_matrix(Y_kmeans, labels, labels=range(n_clusters))\n",
    "\n",
    "# On l'affiche sur une heatmap\n",
    "ax = heatmap(confution_matrix, annot=True, cmap=\"Reds\", square=True, linecolor=\"black\", fmt='d', linewidths = 1)\n",
    "\n",
    "# Centrer la heatmap\n",
    "b, t = plt.ylim()\n",
    "b += 0.5\n",
    "t -= 0.5\n",
    "plt.ylim(b, t)\n",
    "plt.show()"
   ]
  },
  {
   "cell_type": "code",
   "execution_count": 4,
   "metadata": {},
   "outputs": [
    {
     "name": "stdout",
     "output_type": "stream",
     "text": [
      "              precision    recall  f1-score   support\n",
      "\n",
      "           0       0.99      0.99      0.99       178\n",
      "           1       0.61      0.30      0.40       182\n",
      "           2       0.85      0.84      0.84       177\n",
      "           3       0.88      0.84      0.86       183\n",
      "           4       0.98      0.90      0.94       181\n",
      "           5       0.91      0.75      0.82       182\n",
      "           6       0.97      0.98      0.98       181\n",
      "           7       0.86      0.99      0.92       179\n",
      "           8       0.45      0.57      0.50       174\n",
      "           9       0.56      0.77      0.65       180\n",
      "\n",
      "    accuracy                           0.79      1797\n",
      "   macro avg       0.80      0.79      0.79      1797\n",
      "weighted avg       0.81      0.79      0.79      1797\n",
      "\n"
     ]
    }
   ],
   "source": [
    "# Pour tous les labels, renvoit les métriques principales\n",
    "report_kmeans = metrics.classification_report(Y_kmeans, labels)\n",
    "print(report_kmeans)"
   ]
  },
  {
   "cell_type": "code",
   "execution_count": 5,
   "metadata": {},
   "outputs": [
    {
     "data": {
      "image/png": "[encoded data removed]",
      "text/plain": [
       "<Figure size 864x576 with 20 Axes>"
      ]
     },
     "metadata": {},
     "output_type": "display_data"
    }
   ],
   "source": [
    "import random as rd\n",
    "\n",
    "# Affiche 20 images aléatoire du set de données avec le label prédit et le vrai label\n",
    "fig, ax = plt.subplots(4, 5, figsize=(12,8))\n",
    "plt.subplots_adjust(wspace=0.4, hspace=0.4)\n",
    "\n",
    "# Prendre un index aléatoire dans les bornes du tableau d'images\n",
    "i=rd.randint(0, X_kmeans.shape[0]-20)\n",
    "\n",
    "for axi in ax.flat:\n",
    "    axi.set(xticks=[], yticks=[])\n",
    "    axi.set_title(\"Vrai label : %d\\n Label prédit : %d\"%(Y_kmeans[i],labels[i]))\n",
    "    axi.imshow(np.reshape(X_kmeans[i],image_shape), interpolation='nearest', cmap=plt.cm.binary)\n",
    "    i+=1"
   ]
  },
  {
   "cell_type": "markdown",
   "metadata": {},
   "source": [
    "<font color=\"blue\"/>\n",
    "\n",
    "\n",
    "Comme nous pouvons le voir, les résultats entre les données attendues et les données calculées sont plutôt bons.\n",
    "En effet, nous utilisons une fonction ```classification_report``` afin d'obtenir des informations concernant les métriques :\n",
    "\n",
    "- Precision = 80% (moyenne) : à savoir quelle proportion d'identifications positives était effectivement correcte ? **TP/(TP+FP) : P(présent|detecté)**\n",
    "- Rappel = 80% (moyenne) : à savoir quelle proportion de résultats positifs réels a été identifiée correctement ? **TP/(TP+FN) : P(detecté|présent)**\n",
    "- Accuracy = 80% : à savoir le nombre total de corrections correctes sur le nombre de corrections effectuées **(TP+TN)/Tout : P(d'avoir juste)**\n",
    "\n",
    "Comme nous pouvons le voir, toutes les métriques sont à 80%, ce qui est correct mais peut être amélioré. En effet, nous pouvons voir dans la matrice de confusion que certaines classes ont tendance à mal être classifiées comme la classe 1 qui a des prédictions confondues avec la classe 8. Cela fait sens dans la mesure où le centroid de la classe 1 et 8 se ressemblent. Mais la classe 8 et 9 sont aussi de mauvais résultats : elles sont confondues assez souvent et ont une précision et un rappel assez faible.\n",
    "\n",
    "------------------------------------\n",
    "\n",
    "La fonction nous donne aussi les informations concernant le f1-score à savoir la moyenne harmonique entre la precision et le rappel. Cette information nous dit si notre classificateur est précis ou pas et s'il est robuste. Avoir une précision élevée mais un rappel faible nous donne une accuracy très forte mais rates un grand nombre d'instances difficiles à classifier. Ce score est un bon équilibre entre les deux.\n",
    "\n",
    "------------------------------------\n",
    "\n",
    "On peut en conclure que cette méthode peut s'apparenter à une bonne méthode au départ :\n",
    "- on connait déjà le nombre de classes initial\n",
    "- les vecteurs ont une taille modulable : on exploite bien cet avantage avec nos vecteurs de taille 8\\*8\n",
    "- les centroids nous donne des résultats pertinents et visibles pour l'humain\n",
    "\n",
    "Cependant, comme nous montre la matrice de confusion et les résultats des métriques obtenus, nous savons qu'il est possible de faire mieux.\n",
    "\n",
    "De plus, KMeans est un outil **non supervisé** ayant pour but de rassembler les données selon des centroids (points dans l'espace) proches des données en N clusters différents.\n",
    "Ici, nous connaissons la correspondance entre les labels et les images, et donc il serait peut être plus pertinent d'utiliser un modèle de *machine learning* **supervisé**."
   ]
  },
  {
   "cell_type": "markdown",
   "metadata": {},
   "source": [
    "<font color=\"blue\"/>\n",
    "\n",
    "### Question 2 : Naïve Bayes\n",
    "\n",
    "La classification naïve bayésienne, ou Naive Bayes, est une méthode de classification **supervisée**. Le but est toujours de séparer les données en différentes classes en s'entraînant sur des données pour lesquelles on connaît la classe d'appartenance. Le but est d'établir des probabilités selon lesquelles certaines caractéristiques peuvent apparaître selon des conditions.\n",
    "Le but ici est de séparer les 10 classes selon une fonction d'hyperplan selon un ensemble de données d'entraînements.\n",
    "\n",
    "Cependant il faut attention à bien proportionner le rapport entre le nombre de données avec lequel l'algortihme s'entraîne et celui avec lequel il teste. En effet, nous pouvons être amenés à de :\n",
    "- overfitting : fonctions de séparation beaucoup trop adapté au modèle d'entraîenemt et donc peut ne pas prendre en compte des valeurs qui sont proches d'autres classes\n",
    "- underfitting : le modèle est trop simple pour représenter toutes les caractéristiques des classes\n",
    "\n",
    "Durant la phase d'apprentissage il faut donc laisser une certaine flexibilité afin de pouvoir s'adapter aux données n'appartenant pas théoriquement dans une classe bien que très proche de celle dans laquelle elles devraient être.\n",
    "\n",
    "Nous allons tester les différentes méthodes en changeant les paramètres suivants et en sélectionnant le meilleur :\n",
    "- taille relative des données de tests (30%,70%)\n",
    "- gaussienne ou multinomiale\n"
   ]
  },
  {
   "cell_type": "code",
   "execution_count": 6,
   "metadata": {},
   "outputs": [
    {
     "name": "stdout",
     "output_type": "stream",
     "text": [
      "Nombre de tests : 540\n",
      "Nombre d'erreurs : 51\n"
     ]
    }
   ],
   "source": [
    "from sklearn.naive_bayes import MultinomialNB\n",
    "from sklearn.model_selection import train_test_split\n",
    "\n",
    "X_bayes=digits.data\n",
    "Y_bayes=digits.target\n",
    "\n",
    "# Séparer les données d'entraînemetn avec celles de tests avec une taille de test égale à 30% des données initiales\n",
    "X_train, X_test, Y_train, Y_test = train_test_split(X_bayes, Y_bayes, test_size=0.3, random_state=0)\n",
    "\n",
    "nb = MultinomialNB()\n",
    "\n",
    "# S'entraîne (fit) sur les données d'entraînement et on prédit les valeurs que l'on aura\n",
    "# concernant les données de test : labels prédits\n",
    "pred_multiNB = nb.fit(X_train,Y_train).predict(X_test)\n",
    "\n",
    "print(\"Nombre de tests : %d\"%X_test.shape[0])\n",
    "print(\"Nombre d'erreurs : %d\"%(Y_test != pred_multiNB).sum())\n"
   ]
  },
  {
   "cell_type": "code",
   "execution_count": 7,
   "metadata": {},
   "outputs": [
    {
     "data": {
      "image/png": "[encoded data removed]",
      "text/plain": [
       "<Figure size 864x576 with 20 Axes>"
      ]
     },
     "metadata": {},
     "output_type": "display_data"
    }
   ],
   "source": [
    "fig, ax = plt.subplots(4, 5, figsize=(12,8))\n",
    "plt.subplots_adjust(wspace=0.4, hspace=0.4)\n",
    "\n",
    "# Prendre un index aléatoire dans les bornes du tableau d'images\n",
    "i=rd.randint(0, X_test.shape[0]-20)\n",
    "\n",
    "for axi in ax.flat:\n",
    "    axi.set(xticks=[], yticks=[])\n",
    "    axi.set_title(\"Vrai label : %d\\n Label prédit : %d\"%(Y_test[i],pred_multiNB[i]))\n",
    "    axi.imshow(np.reshape(X_test[i],image_shape), interpolation='nearest', cmap=plt.cm.binary)\n",
    "    i+=1"
   ]
  },
  {
   "cell_type": "code",
   "execution_count": 8,
   "metadata": {},
   "outputs": [
    {
     "data": {
      "image/png": "[encoded data removed]",
      "text/plain": [
       "<Figure size 432x288 with 2 Axes>"
      ]
     },
     "metadata": {
      "needs_background": "light"
     },
     "output_type": "display_data"
    },
    {
     "name": "stdout",
     "output_type": "stream",
     "text": [
      "              precision    recall  f1-score   support\n",
      "\n",
      "           0       0.98      0.98      0.98        45\n",
      "           1       0.88      0.81      0.84        52\n",
      "           2       0.94      0.87      0.90        53\n",
      "           3       1.00      0.81      0.90        54\n",
      "           4       0.96      0.96      0.96        48\n",
      "           5       0.98      0.82      0.90        57\n",
      "           6       0.97      1.00      0.98        60\n",
      "           7       0.88      0.98      0.93        53\n",
      "           8       0.89      0.90      0.89        61\n",
      "           9       0.71      0.93      0.80        57\n",
      "\n",
      "    accuracy                           0.91       540\n",
      "   macro avg       0.92      0.91      0.91       540\n",
      "weighted avg       0.92      0.91      0.91       540\n",
      "\n"
     ]
    }
   ],
   "source": [
    "# Nous obtenons les résultats dans la matrice de confusion\n",
    "confution_matrix_multiNB = metrics.confusion_matrix(Y_test, pred_multiNB, labels=range(n_clusters))\n",
    "\n",
    "# On l'affiche sur une heatmap\n",
    "ax = heatmap(confution_matrix_multiNB, annot=True, cmap=\"Reds\", square=True, linecolor=\"black\", fmt='d', linewidths = 1)\n",
    "b, t = plt.ylim()\n",
    "b += 0.5\n",
    "t -= 0.5\n",
    "plt.ylim(b, t)\n",
    "plt.show()\n",
    "    \n",
    "report_multiNB = metrics.classification_report(Y_test, pred_multiNB)\n",
    "print(report_multiNB)"
   ]
  },
  {
   "cell_type": "markdown",
   "metadata": {},
   "source": [
    "<font color=\"blue\"/>\n",
    "\n",
    "Ici on fait une classification naïve bayésienne selon un algorithme Multinomial. Ce dernier change notamment la formule utilisée afin de calculer les probabilités conditionnelles. Cette méthode de calcul est plus efficace quand il s'agit de calculer des valeurs discrètes.\n",
    "\n",
    "Comme nous pouvons le voir sur les résultat, nous avons une meilleur accuracy globale à savoir 91% des données prédites sont correctes.\n",
    "\n",
    "Un autre avantage avec cette méthode est que la précision pour les chiffres 3, 4 et 6 est toujours parfaite."
   ]
  },
  {
   "cell_type": "code",
   "execution_count": 9,
   "metadata": {},
   "outputs": [
    {
     "name": "stdout",
     "output_type": "stream",
     "text": [
      "Nombre de tests : 1438\n",
      "Nombre d'erreurs : 152\n"
     ]
    },
    {
     "data": {
      "image/png": "[encoded data removed]",
      "text/plain": [
       "<Figure size 864x576 with 20 Axes>"
      ]
     },
     "metadata": {},
     "output_type": "display_data"
    }
   ],
   "source": [
    "# On fait la meme chose en prenant un grand nombre de tests 80%\n",
    "X_train, X_test, Y_train, Y_test = train_test_split(X_bayes, Y_bayes, test_size=0.8, random_state=0)\n",
    "\n",
    "nb = MultinomialNB()\n",
    "\n",
    "pred_multiNB = nb.fit(X_train,Y_train).predict(X_test)\n",
    "\n",
    "print(\"Nombre de tests : %d\"%X_test.shape[0])\n",
    "print(\"Nombre d'erreurs : %d\"%(Y_test != pred_multiNB).sum())\n",
    "\n",
    "fig, ax = plt.subplots(4, 5, figsize=(12,8))\n",
    "plt.subplots_adjust(wspace=0.4, hspace=0.4)\n",
    "\n",
    "i=rd.randint(0, X_test.shape[0]-20)\n",
    "\n",
    "for axi in ax.flat:\n",
    "    axi.set(xticks=[], yticks=[])\n",
    "    axi.set_title(\"Vrai label : %d\\n Label prédit : %d\"%(Y_test[i],pred_multiNB[i]))\n",
    "    axi.imshow(np.reshape(X_test[i],image_shape), interpolation='nearest', cmap=plt.cm.binary)\n",
    "    i+=1"
   ]
  },
  {
   "cell_type": "code",
   "execution_count": 10,
   "metadata": {},
   "outputs": [
    {
     "data": {
      "image/png": "[encoded data removed]",
      "text/plain": [
       "<Figure size 432x288 with 2 Axes>"
      ]
     },
     "metadata": {
      "needs_background": "light"
     },
     "output_type": "display_data"
    },
    {
     "name": "stdout",
     "output_type": "stream",
     "text": [
      "              precision    recall  f1-score   support\n",
      "\n",
      "           0       0.99      0.99      0.99       147\n",
      "           1       0.89      0.71      0.79       147\n",
      "           2       0.88      0.91      0.89       138\n",
      "           3       0.98      0.85      0.91       150\n",
      "           4       0.96      0.95      0.96       137\n",
      "           5       0.96      0.85      0.90       153\n",
      "           6       0.98      0.95      0.96       141\n",
      "           7       0.87      0.99      0.93       140\n",
      "           8       0.79      0.87      0.83       146\n",
      "           9       0.71      0.88      0.79       139\n",
      "\n",
      "    accuracy                           0.89      1438\n",
      "   macro avg       0.90      0.90      0.90      1438\n",
      "weighted avg       0.90      0.89      0.89      1438\n",
      "\n"
     ]
    }
   ],
   "source": [
    "# Nous obtenons les résultats dans la matrice de confusion\n",
    "confution_matrix_multiNB = metrics.confusion_matrix(Y_test, pred_multiNB, labels=range(n_clusters))\n",
    "\n",
    "# On l'affiche sur une heatmap\n",
    "ax = heatmap(confution_matrix_multiNB, annot=True, cmap=\"Reds\", square=True, linecolor=\"black\", fmt='d', linewidths = 1)\n",
    "b, t = plt.ylim()\n",
    "b += 0.5\n",
    "t -= 0.5\n",
    "plt.ylim(b, t)\n",
    "plt.show()\n",
    "    \n",
    "report_multiNB = metrics.classification_report(Y_test, pred_multiNB)\n",
    "print(report_multiNB)"
   ]
  },
  {
   "cell_type": "markdown",
   "metadata": {},
   "source": [
    "<font color=\"blue\"/>\n",
    "\n",
    "Augmenter le nombre de tests réduit nos métriques (pas une bonne nouvelle) mais c'est relativement faible. D'autant plus qu'en agumentant le nombre de tests, on peut facilement voir sur la matrice de confusion, quelles classes sont confondues entre elles et il s'agit du 1 et du 9.\n",
    "\n",
    "Avec cette méthode, nous avons calculé empiriquement et c'est a partir de + de 30% de tests que nos métriques diminuent. Nous allons donc rester à 30% de tests. C'est un choix à faire et nous considérons que s'entraîner un peu mais pas trop est un bon compromis afin de voir les comportements dans les confusions."
   ]
  },
  {
   "cell_type": "code",
   "execution_count": 11,
   "metadata": {},
   "outputs": [
    {
     "data": {
      "text/plain": [
       "'from sklearn.preprocessing import label_binarize\\nfrom sklearn.multiclass import OneVsRestClassifier\\n\\ny = label_binarize(Y_bayes, classes=[0, 1, 2, 3, 4, 5, 6, 7, 8, 9])\\nn_classes = y.shape[1]\\n\\nclassifier = OneVsRestClassifier(nb)\\nclassifier.fit(X_train, Y_train)\\n\\ny_score = classifier.decision_function(X_test)\\n\\n\\nprecision = dict()\\nrecall = dict()\\n\\nfor i in range(n_clusters):\\n    precision[i], recall[i], _ = precision_recall_curve(Y_test[:,i],\\n                                                        y_score[:,i])\\nplt.show()\\n\\nfor i in range(n_clusters):\\n    plt.plot(recall[i],precision[i])\\n    '"
      ]
     },
     "execution_count": 11,
     "metadata": {},
     "output_type": "execute_result"
    }
   ],
   "source": [
    "'''from sklearn.preprocessing import label_binarize\n",
    "from sklearn.multiclass import OneVsRestClassifier\n",
    "\n",
    "y = label_binarize(Y_bayes, classes=[0, 1, 2, 3, 4, 5, 6, 7, 8, 9])\n",
    "n_classes = y.shape[1]\n",
    "\n",
    "classifier = OneVsRestClassifier(nb)\n",
    "classifier.fit(X_train, Y_train)\n",
    "\n",
    "y_score = classifier.decision_function(X_test)\n",
    "\n",
    "\n",
    "precision = dict()\n",
    "recall = dict()\n",
    "\n",
    "for i in range(n_clusters):\n",
    "    precision[i], recall[i], _ = precision_recall_curve(Y_test[:,i],\n",
    "                                                        y_score[:,i])\n",
    "plt.show()\n",
    "\n",
    "for i in range(n_clusters):\n",
    "    plt.plot(recall[i],precision[i])\n",
    "    '''"
   ]
  },
  {
   "cell_type": "markdown",
   "metadata": {},
   "source": [
    "<font color=\"blue\"/>\n",
    "\n",
    "---------------------------------------\n",
    "\n",
    "Nous allons essayer de faire la même chose avec cette fois ci la méthode Gaussiène."
   ]
  },
  {
   "cell_type": "code",
   "execution_count": 12,
   "metadata": {},
   "outputs": [
    {
     "name": "stdout",
     "output_type": "stream",
     "text": [
      "Nombre de tests : 360\n",
      "Nombre d'erreurs : 63\n"
     ]
    }
   ],
   "source": [
    "from sklearn.naive_bayes import GaussianNB\n",
    "\n",
    "X_train, X_test, Y_train, Y_test = train_test_split(X_bayes, Y_bayes, test_size=0.2, random_state=0)\n",
    "\n",
    "gnb = GaussianNB()\n",
    "pred_gaussianNB = gnb.fit(X_train,Y_train).predict(X_test)\n",
    "\n",
    "print(\"Nombre de tests : %d\"%X_test.shape[0])\n",
    "print(\"Nombre d'erreurs : %d\"%(Y_test != pred_gaussianNB).sum())"
   ]
  },
  {
   "cell_type": "code",
   "execution_count": 13,
   "metadata": {},
   "outputs": [
    {
     "data": {
      "image/png": "[encoded data removed]",
      "text/plain": [
       "<Figure size 432x288 with 2 Axes>"
      ]
     },
     "metadata": {
      "needs_background": "light"
     },
     "output_type": "display_data"
    },
    {
     "name": "stdout",
     "output_type": "stream",
     "text": [
      "              precision    recall  f1-score   support\n",
      "\n",
      "           0       1.00      1.00      1.00        27\n",
      "           1       0.66      0.89      0.76        35\n",
      "           2       0.94      0.47      0.63        36\n",
      "           3       0.89      0.83      0.86        29\n",
      "           4       1.00      0.73      0.85        30\n",
      "           5       0.97      0.88      0.92        40\n",
      "           6       1.00      1.00      1.00        44\n",
      "           7       0.74      1.00      0.85        39\n",
      "           8       0.54      0.82      0.65        39\n",
      "           9       0.96      0.63      0.76        41\n",
      "\n",
      "    accuracy                           0.82       360\n",
      "   macro avg       0.87      0.82      0.83       360\n",
      "weighted avg       0.87      0.82      0.83       360\n",
      "\n"
     ]
    }
   ],
   "source": [
    "# Nous obtenons les résultats dans la matrice de confusion\n",
    "confution_matrix_gaussianNB = metrics.confusion_matrix(Y_test, pred_gaussianNB, labels=range(n_clusters))\n",
    "\n",
    "# On l'affiche sur une heatmap\n",
    "ax = heatmap(confution_matrix_gaussianNB, annot=True, cmap=\"Reds\", square=True, linecolor=\"black\", fmt='d', linewidths = 1)\n",
    "b, t = plt.ylim()\n",
    "b += 0.5\n",
    "t -= 0.5\n",
    "plt.ylim(b, t)\n",
    "plt.show()\n",
    "    \n",
    "report_gaussianNB = metrics.classification_report(Y_test, pred_gaussianNB)\n",
    "print(report_gaussianNB)"
   ]
  },
  {
   "cell_type": "markdown",
   "metadata": {},
   "source": [
    "<font color=\"blue\"/>\n",
    "\n",
    "### Question 3 : SVM\n",
    "\n",
    "Le but de cette classification est de séparer les données selon des hypers plans afin d'avoir des groupes de données selon les 10 classes existantes. Cet algorithme supervisé a pour but de maximiser les marges entre les hyperplans et les échantillons les plus proches (vecteurs de support). Dans la méthode SVM, les frontières entre les classes sont choisies selon les marges **maximales**.\n",
    "\n",
    "Ici, on utilisera les 1757 premières données afin de s'entraîner (données qui à chaque exécution seront aléatoires compte tenu de la permutation des indices initiale) et on testera ensuite sur les 20 dernières données de notre dataset.\n",
    "\n",
    "Nous allons essayer de visualiser les différentes classification SVM afin de voir laquelle est potentiellement la meilleure : linéaire, non linaire ou RBF (*Radial basis function*). De plus, nous allons essayer les différentes méthodes avec des paramètres différents pouvant influencer les résultats :\n",
    "- degré : pour la méthode polynomiale\n",
    "- gamma : pour toutes les méthodes\n",
    "- kernel"
   ]
  },
  {
   "cell_type": "code",
   "execution_count": 14,
   "metadata": {},
   "outputs": [],
   "source": [
    "from sklearn import svm\n",
    "\n",
    "X_svm=digits.data\n",
    "Y_svm=digits.target\n",
    "\n",
    "# Séparer les données d'entraînement et tests 30% de tests\n",
    "X_svm_train, X_svm_test, Y_svm_train, Y_svm_test = train_test_split(X_svm, Y_svm, test_size=0.3, random_state=0)\n",
    "\n",
    "svc = svm.SVC(kernel='linear', C=1.0)\n",
    "pred_linear_svm = svc.fit(X_svm_train,Y_svm_train).predict(X_svm_test)"
   ]
  },
  {
   "cell_type": "code",
   "execution_count": 15,
   "metadata": {
    "scrolled": true
   },
   "outputs": [
    {
     "data": {
      "image/png": "[encoded data removed]",
      "text/plain": [
       "<Figure size 432x288 with 2 Axes>"
      ]
     },
     "metadata": {
      "needs_background": "light"
     },
     "output_type": "display_data"
    },
    {
     "name": "stdout",
     "output_type": "stream",
     "text": [
      "              precision    recall  f1-score   support\n",
      "\n",
      "           0       1.00      1.00      1.00        45\n",
      "           1       0.93      0.98      0.95        52\n",
      "           2       0.98      1.00      0.99        53\n",
      "           3       0.96      0.98      0.97        54\n",
      "           4       0.96      1.00      0.98        48\n",
      "           5       0.98      0.98      0.98        57\n",
      "           6       1.00      0.98      0.99        60\n",
      "           7       1.00      0.96      0.98        53\n",
      "           8       0.96      0.90      0.93        61\n",
      "           9       0.96      0.96      0.96        57\n",
      "\n",
      "    accuracy                           0.97       540\n",
      "   macro avg       0.97      0.98      0.97       540\n",
      "weighted avg       0.97      0.97      0.97       540\n",
      "\n"
     ]
    }
   ],
   "source": [
    "# Nous obtenons les résultats dans la matrice de confusion\n",
    "confution_matrix_linear_svm = metrics.confusion_matrix(Y_svm_test, pred_linear_svm, labels=range(n_clusters))\n",
    "ax = heatmap(confution_matrix_linear_svm, annot=True, cmap=\"Reds\", square=True, linecolor=\"black\", fmt='d', linewidths = 1)\n",
    "ax.set_title(\"LINEAR GAMMA SCALE\")\n",
    "\n",
    "b, t = plt.ylim()\n",
    "b += 0.5\n",
    "t -= 0.5\n",
    "plt.ylim(b, t)\n",
    "plt.show()\n",
    "    \n",
    "report_linear_svm = metrics.classification_report(Y_svm_test, pred_linear_svm)\n",
    "print(report_linear_svm)"
   ]
  },
  {
   "cell_type": "code",
   "execution_count": 23,
   "metadata": {},
   "outputs": [
    {
     "name": "stderr",
     "output_type": "stream",
     "text": [
      "D:\\Program Files (x86)\\conda\\lib\\site-packages\\ipykernel_launcher.py:42: UserWarning: Legend does not support 0 instances.\n",
      "A proxy artist may be used instead.\n",
      "See: http://matplotlib.org/users/legend_guide.html#creating-artists-specifically-for-adding-to-the-legend-aka-proxy-artists\n",
      "D:\\Program Files (x86)\\conda\\lib\\site-packages\\ipykernel_launcher.py:42: UserWarning: Legend does not support 1 instances.\n",
      "A proxy artist may be used instead.\n",
      "See: http://matplotlib.org/users/legend_guide.html#creating-artists-specifically-for-adding-to-the-legend-aka-proxy-artists\n",
      "D:\\Program Files (x86)\\conda\\lib\\site-packages\\ipykernel_launcher.py:42: UserWarning: Legend does not support 2 instances.\n",
      "A proxy artist may be used instead.\n",
      "See: http://matplotlib.org/users/legend_guide.html#creating-artists-specifically-for-adding-to-the-legend-aka-proxy-artists\n",
      "D:\\Program Files (x86)\\conda\\lib\\site-packages\\ipykernel_launcher.py:42: UserWarning: Legend does not support 3 instances.\n",
      "A proxy artist may be used instead.\n",
      "See: http://matplotlib.org/users/legend_guide.html#creating-artists-specifically-for-adding-to-the-legend-aka-proxy-artists\n",
      "D:\\Program Files (x86)\\conda\\lib\\site-packages\\ipykernel_launcher.py:42: UserWarning: Legend does not support 4 instances.\n",
      "A proxy artist may be used instead.\n",
      "See: http://matplotlib.org/users/legend_guide.html#creating-artists-specifically-for-adding-to-the-legend-aka-proxy-artists\n",
      "D:\\Program Files (x86)\\conda\\lib\\site-packages\\ipykernel_launcher.py:42: UserWarning: Legend does not support 5 instances.\n",
      "A proxy artist may be used instead.\n",
      "See: http://matplotlib.org/users/legend_guide.html#creating-artists-specifically-for-adding-to-the-legend-aka-proxy-artists\n",
      "D:\\Program Files (x86)\\conda\\lib\\site-packages\\ipykernel_launcher.py:42: UserWarning: Legend does not support 6 instances.\n",
      "A proxy artist may be used instead.\n",
      "See: http://matplotlib.org/users/legend_guide.html#creating-artists-specifically-for-adding-to-the-legend-aka-proxy-artists\n",
      "D:\\Program Files (x86)\\conda\\lib\\site-packages\\ipykernel_launcher.py:42: UserWarning: Legend does not support 7 instances.\n",
      "A proxy artist may be used instead.\n",
      "See: http://matplotlib.org/users/legend_guide.html#creating-artists-specifically-for-adding-to-the-legend-aka-proxy-artists\n",
      "D:\\Program Files (x86)\\conda\\lib\\site-packages\\ipykernel_launcher.py:42: UserWarning: Legend does not support 8 instances.\n",
      "A proxy artist may be used instead.\n",
      "See: http://matplotlib.org/users/legend_guide.html#creating-artists-specifically-for-adding-to-the-legend-aka-proxy-artists\n",
      "D:\\Program Files (x86)\\conda\\lib\\site-packages\\ipykernel_launcher.py:42: UserWarning: Legend does not support 9 instances.\n",
      "A proxy artist may be used instead.\n",
      "See: http://matplotlib.org/users/legend_guide.html#creating-artists-specifically-for-adding-to-the-legend-aka-proxy-artists\n"
     ]
    },
    {
     "data": {
      "text/plain": [
       "<matplotlib.legend.Legend at 0x27ed5fa9808>"
      ]
     },
     "execution_count": 23,
     "metadata": {},
     "output_type": "execute_result"
    },
    {
     "data": {
      "image/png": "[encoded data removed]",
      "text/plain": [
       "<Figure size 432x288 with 1 Axes>"
      ]
     },
     "metadata": {
      "needs_background": "light"
     },
     "output_type": "display_data"
    }
   ],
   "source": [
    "from sklearn.preprocessing import label_binarize\n",
    "from sklearn.multiclass import OneVsRestClassifier\n",
    "from sklearn.metrics import precision_recall_curve\n",
    "from sklearn.metrics import average_precision_score\n",
    "\n",
    "# Pour toutes les labels des images : binarise selon les classes : y contiendra 10 tableaux de toutes les labels en binaire avec\n",
    "# y[i] = 1 si i = Y_svm[i]\n",
    "y = label_binarize(Y_svm, classes=[0, 1, 2, 3, 4, 5, 6, 7, 8, 9])\n",
    "\n",
    "X_svm_train, X_svm_test, Y_svm_train, Y_svm_test = train_test_split(X_svm, y, test_size=0.3, random_state=0)\n",
    "\n",
    "# Faire des classifications pour chacune des classes 1 par rapport à toutes les autres\n",
    "classifier = OneVsRestClassifier(svc)\n",
    "classifier.fit(X_svm_train, Y_svm_train)\n",
    "\n",
    "pred_labels = classifier.decision_function(X_svm_test)\n",
    "\n",
    "precision = dict()\n",
    "recall = dict()\n",
    "average_precision = dict()\n",
    "\n",
    "# Pour chaque classe, on va stocker la courbe de la précision en fonction du rappel\n",
    "for i in range(n_clusters):\n",
    "    # On passe en paramètre toutes les valeurs des vrais labels et le score associé pour chaque classe\n",
    "    precision[i], recall[i], _ = precision_recall_curve(Y_svm_test[:, i], pred_labels[:, i])\n",
    "    average_precision[i] = average_precision_score(Y_svm_test[:,i],pred_labels[:,i])\n",
    "    \n",
    "labels = dict()\n",
    "lines = dict()\n",
    "\n",
    "plt.show()\n",
    "\n",
    "# On ajoute des légendes pour chacune des courbes\n",
    "for i in range(n_clusters):\n",
    "    l = plt.plot(recall[i],precision[i])\n",
    "    lines[i] = l\n",
    "    labels[i] = 'Precision-recall for class {0} (area = {1:0.2f})'.format(i, average_precision[i])\n",
    "                \n",
    "plt.legend(lines,labels)"
   ]
  },
  {
   "cell_type": "markdown",
   "metadata": {},
   "source": [
    "<font color=\"blue\"/>\n",
    "\n",
    "En lanceant un algorithme SVM linéaire, nous obtenons de très bons résultats sur pratiquement toutes les classes. L'accuracy, précision et rappel nous donne des valeurs très acceptables.\n",
    "\n",
    "Voyons si l'on change le nombre de tests à 80% ce qu'il se passe."
   ]
  },
  {
   "cell_type": "code",
   "execution_count": null,
   "metadata": {},
   "outputs": [],
   "source": [
    "from sklearn import svm\n",
    "\n",
    "X_svm=digits.data\n",
    "Y_svm=digits.target\n",
    "\n",
    "# Séparer les données d'entraînement et tests 80% de tests\n",
    "X_svm_train, X_svm_test, Y_svm_train, Y_svm_test = train_test_split(X_svm, Y_svm, test_size=0.8, random_state=0)\n",
    "\n",
    "svc = svm.SVC(kernel='linear', C=1.0)\n",
    "pred_linear_svm = svc.fit(X_svm_train,Y_svm_train).predict(X_svm_test)\n",
    "\n",
    "# Nous obtenons les résultats dans la matrice de confusion\n",
    "confution_matrix_linear_svm = metrics.confusion_matrix(Y_svm_test, pred_linear_svm, labels=range(n_clusters))\n",
    "ax = heatmap(confution_matrix_linear_svm, annot=True, cmap=\"Reds\", square=True, linecolor=\"black\", fmt='d', linewidths = 1)\n",
    "ax.set_title(\"LINEAR GAMMA SCALE\")\n",
    "\n",
    "b, t = plt.ylim()\n",
    "b += 0.5\n",
    "t -= 0.5\n",
    "plt.ylim(b, t)\n",
    "plt.show()\n",
    "    \n",
    "report_linear_svm = metrics.classification_report(Y_svm_test, pred_linear_svm)\n",
    "print(report_linear_svm)"
   ]
  },
  {
   "cell_type": "markdown",
   "metadata": {},
   "source": [
    "<font color=\"blue\"/>\n",
    "\n",
    "Encore une fois, on perd un peu de précision mais on voit clairement que sur le long terme (le nombre de tests) notre modèle s'est bien adapté et les valeurs sont correctes. Nous allons donc garder 80% de tests dans la mesure où la precision ne diminue que très peu.\n",
    "\n",
    "---------------------------\n",
    "\n",
    "Maintenant nous allons utiliser la méthode polynomiale, à savoir représenter les données dans un espace de degré polynomial plus grand que celui des variables d'origine permettant donc un apprentissage de modèles non-linéaires."
   ]
  },
  {
   "cell_type": "code",
   "execution_count": null,
   "metadata": {},
   "outputs": [],
   "source": [
    "# Degré 2\n",
    "svc = svm.SVC(kernel='poly', degree=2, C=1.0)\n",
    "\n",
    "pred_poly_svm = svc.fit(X_svm_train,Y_svm_train).predict(X_svm_test)\n",
    "\n",
    "confution_matrix_poly_svm = metrics.confusion_matrix(Y_svm_test, pred_poly_svm, labels=range(n_clusters))\n",
    "ax = heatmap(confution_matrix_poly_svm, annot=True, cmap=\"Reds\", square=True, linecolor=\"black\", fmt='d', linewidths = 1)\n",
    "ax.set_title(\"POLY 2 GAMMA SCALE\")\n",
    "\n",
    "b, t = plt.ylim()\n",
    "b += 0.5\n",
    "t -= 0.5\n",
    "plt.ylim(b, t)\n",
    "plt.show()\n",
    "\n",
    "report_poly_svm = metrics.classification_report(Y_svm_test, pred_poly_svm)\n",
    "print(report_poly_svm)"
   ]
  },
  {
   "cell_type": "code",
   "execution_count": null,
   "metadata": {},
   "outputs": [],
   "source": [
    "# Degré 3\n",
    "svc = svm.SVC(kernel='poly', degree=3, C=1.0)\n",
    "\n",
    "pred_poly_svm = svc.fit(X_svm_train,Y_svm_train).predict(X_svm_test)\n",
    "\n",
    "confution_matrix_poly_svm = metrics.confusion_matrix(Y_svm_test, pred_poly_svm, labels=range(n_clusters))\n",
    "ax = heatmap(confution_matrix_poly_svm, annot=True, cmap=\"Reds\", square=True, linecolor=\"black\", fmt='d', linewidths = 1)\n",
    "ax.set_title(\"POLY 3 GAMMA SCALE\")\n",
    "\n",
    "b, t = plt.ylim()\n",
    "b += 0.5\n",
    "t -= 0.5\n",
    "plt.ylim(b, t)\n",
    "plt.show()\n",
    "\n",
    "report_poly_svm = metrics.classification_report(Y_svm_test, pred_poly_svm)\n",
    "print(report_poly_svm)"
   ]
  },
  {
   "cell_type": "markdown",
   "metadata": {},
   "source": [
    "<font color=\"blue\"/>\n",
    "\n",
    "Comme on peut le voir, plus on augmente le degré, plus les métriques sont meilleures. Cependant, cela peut entraîner plusieurs problèmes comme notamment celui du surapprentissage et donc nous donner des mauvais résultats.\n"
   ]
  },
  {
   "cell_type": "code",
   "execution_count": null,
   "metadata": {},
   "outputs": [],
   "source": [
    "# Degré 3\n",
    "svc = svm.SVC(kernel='poly', degree=10, C=1.0)\n",
    "\n",
    "pred_poly_svm = svc.fit(X_svm_train,Y_svm_train).predict(X_svm_test)\n",
    "\n",
    "confution_matrix_poly_svm = metrics.confusion_matrix(Y_svm_test, pred_poly_svm, labels=range(n_clusters))\n",
    "ax = heatmap(confution_matrix_poly_svm, annot=True, cmap=\"Reds\", square=True, linecolor=\"black\", fmt='d', linewidths = 1)\n",
    "ax.set_title(\"POLY 10 GAMMA SCALE\")\n",
    "\n",
    "b, t = plt.ylim()\n",
    "b += 0.5\n",
    "t -= 0.5\n",
    "plt.ylim(b, t)\n",
    "plt.show()\n",
    "\n",
    "report_poly_svm = metrics.classification_report(Y_svm_test, pred_poly_svm)\n",
    "print(report_poly_svm)"
   ]
  },
  {
   "cell_type": "markdown",
   "metadata": {},
   "source": [
    "<font color=\"blue\"/>\n",
    "\n",
    "Comme on peut le voir, les métriques sont moins bonnes. Encore une fois, la raison peut être que nous avons surappris et donc le modèle s'adapte mal aux données test.\n",
    "\n",
    "-----------------------\n",
    "\n",
    "On va tester maintenant le noyau RBF : Radius Basis Function avec un gamma = scale : 1 / (N * X.var())"
   ]
  },
  {
   "cell_type": "code",
   "execution_count": null,
   "metadata": {},
   "outputs": [],
   "source": [
    "# RBF\n",
    "# gamma = scale\n",
    "svc = svm.SVC(kernel='rbf', C=1.0)\n",
    "\n",
    "pred_poly_svm = svc.fit(X_svm_train,Y_svm_train).predict(X_svm_test)\n",
    "\n",
    "confution_matrix_poly_svm = metrics.confusion_matrix(Y_svm_test, pred_poly_svm, labels=range(n_clusters))\n",
    "ax = heatmap(confution_matrix_poly_svm, annot=True, cmap=\"Reds\", square=True, linecolor=\"black\", fmt='d', linewidths = 1)\n",
    "ax.set_title(\"RBF GAMMA SCALE\")\n",
    "\n",
    "b, t = plt.ylim()\n",
    "b += 0.5\n",
    "t -= 0.5\n",
    "plt.ylim(b, t)\n",
    "plt.show()\n",
    "\n",
    "report_poly_svm = metrics.classification_report(Y_svm_test, pred_poly_svm)\n",
    "print(report_poly_svm)"
   ]
  },
  {
   "cell_type": "markdown",
   "metadata": {},
   "source": [
    "<font color=\"blue\"/>\n",
    "\n",
    "Cette méthode nous donne de très bons résultats concernant chacune des classes (0.96 de précision en moyenne).\n",
    "\n",
    "---------------------------\n",
    "\n",
    "Cependant, le paramètre **gamma** peut aussi influencer sur les résultats. Il correspond à un paramètre utile pour les hyperplans non linéaires. Plus la valeur est grande, plus l'algorithme essaye de s'adapter au jeu de données d'entraînement.\n",
    "\n",
    "Nous allons essayer avec la valeur \"auto\" correspondant à auto soit : 1 / N"
   ]
  },
  {
   "cell_type": "code",
   "execution_count": null,
   "metadata": {},
   "outputs": [],
   "source": [
    "# RBF\n",
    "svc = svm.SVC(kernel='rbf', C=1.0, gamma='auto')\n",
    "\n",
    "pred_poly_svm = svc.fit(X_svm_train,Y_svm_train).predict(X_svm_test)\n",
    "\n",
    "confution_matrix_poly_svm = metrics.confusion_matrix(Y_svm_test, pred_poly_svm, labels=range(n_clusters))\n",
    "ax = heatmap(confution_matrix_poly_svm, annot=True, cmap=\"Reds\", square=True, linecolor=\"black\", fmt='d', linewidths = 1)\n",
    "ax.set_title(\"RBF GAMMA AUTO\")\n",
    "\n",
    "b, t = plt.ylim()\n",
    "b += 0.5\n",
    "t -= 0.5\n",
    "plt.ylim(b, t)\n",
    "plt.show()\n",
    "\n",
    "report_poly_svm = metrics.classification_report(Y_svm_test, pred_poly_svm)\n",
    "print(report_poly_svm)"
   ]
  },
  {
   "cell_type": "markdown",
   "metadata": {},
   "source": [
    "<font color=\"blue\"/>\n",
    "\n",
    "Comme on peut le voir, si l'on passe à un gamma automatique, nous avons des résultats mauvais en confondant toutes les classes avec la classe 4. Le fait que les résultats soient tous confondus avec 4 reste cependant obscur, nous n'avons pas de réponses.\n",
    "\n",
    "-------------------\n",
    "\n",
    "Essayons maintenant avec un gamma > 1."
   ]
  },
  {
   "cell_type": "code",
   "execution_count": null,
   "metadata": {},
   "outputs": [],
   "source": [
    "# POLY GAMMA 5\n",
    "svc = svm.SVC(kernel='poly', C=1.0, gamma=5)\n",
    "\n",
    "pred_poly_svm = svc.fit(X_svm_train,Y_svm_train).predict(X_svm_test)\n",
    "\n",
    "confution_matrix_poly_svm = metrics.confusion_matrix(Y_svm_test, pred_poly_svm, labels=range(n_clusters))\n",
    "ax = heatmap(confution_matrix_poly_svm, annot=True, cmap=\"Reds\", square=True, linecolor=\"black\", fmt='d', linewidths = 1)\n",
    "ax.set_title(\"POLY GAMMA 5\")\n",
    "\n",
    "b, t = plt.ylim()\n",
    "b += 0.5\n",
    "t -= 0.5\n",
    "plt.ylim(b, t)\n",
    "plt.show()\n",
    "\n",
    "report_poly_svm = metrics.classification_report(Y_svm_test, pred_poly_svm)\n",
    "print(report_poly_svm)"
   ]
  },
  {
   "cell_type": "markdown",
   "metadata": {},
   "source": [
    "<font color=\"blue\"/>\n",
    "\n",
    "Avec l'algorithme polynomial et un gamma à 5 (si on l'augmente cela ne change pas les résultats), nous obtenons des très bons résultats avec notamment une précision parfaite sur quelques classes et globalement il s'agit d'excellents résultats.\n",
    "\n",
    "-------------------\n",
    "\n",
    "Maintenant essayons de le faire avec une petite valeur."
   ]
  },
  {
   "cell_type": "code",
   "execution_count": null,
   "metadata": {},
   "outputs": [],
   "source": [
    "# POLY GAMMA 0.00001\n",
    "svc = svm.SVC(kernel='poly', C=1.0, gamma=0.00001)\n",
    "\n",
    "pred_poly_svm = svc.fit(X_svm_train,Y_svm_train).predict(X_svm_test)\n",
    "\n",
    "confution_matrix_poly_svm = metrics.confusion_matrix(Y_svm_test, pred_poly_svm, labels=range(n_clusters))\n",
    "ax = heatmap(confution_matrix_poly_svm, annot=True, cmap=\"Reds\", square=True, linecolor=\"black\", fmt='d', linewidths = 1)\n",
    "ax.set_title(\"POLY GAMMA 5\")\n",
    "\n",
    "b, t = plt.ylim()\n",
    "b += 0.5\n",
    "t -= 0.5\n",
    "plt.ylim(b, t)\n",
    "plt.show()\n",
    "\n",
    "report_poly_svm = metrics.classification_report(Y_svm_test, pred_poly_svm)\n",
    "print(report_poly_svm)"
   ]
  },
  {
   "cell_type": "markdown",
   "metadata": {},
   "source": [
    "<font color=\"blue\"/>\n",
    "\n",
    "Si l'on met un gamma beaucoup trop petit (< 0.00001) alors l'algorithme ne s'adaptera pas assez au données d'entraînement et alors nous aurons des mauvais résultats."
   ]
  },
  {
   "cell_type": "code",
   "execution_count": null,
   "metadata": {},
   "outputs": [],
   "source": []
  }
 ],
 "metadata": {
  "kernelspec": {
   "display_name": "Python 3",
   "language": "python",
   "name": "python3"
  },
  "language_info": {
   "codemirror_mode": {
    "name": "ipython",
    "version": 3
   },
   "file_extension": ".py",
   "mimetype": "text/x-python",
   "name": "python",
   "nbconvert_exporter": "python",
   "pygments_lexer": "ipython3",
   "version": "3.7.4"
  },
  "latex_envs": {
   "LaTeX_envs_menu_present": true,
   "autoclose": false,
   "autocomplete": true,
   "bibliofile": "biblio.bib",
   "cite_by": "apalike",
   "current_citInitial": 1,
   "eqLabelWithNumbers": true,
   "eqNumInitial": 1,
   "hotkeys": {
    "equation": "Ctrl-E",
    "itemize": "Ctrl-I"
   },
   "labels_anchors": false,
   "latex_user_defs": false,
   "report_style_numbering": false,
   "user_envs_cfg": false
  }
 },
 "nbformat": 4,
 "nbformat_minor": 2
}
